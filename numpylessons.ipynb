{
 "cells": [
  {
   "cell_type": "code",
   "execution_count": 1,
   "id": "b0e897af-daef-49b7-a1f4-2befb95a7f2d",
   "metadata": {},
   "outputs": [],
   "source": [
    "import numpy as np"
   ]
  },
  {
   "cell_type": "code",
   "execution_count": 2,
   "id": "b2c0de17-d13e-466e-9fb0-97fb2e28d6fe",
   "metadata": {},
   "outputs": [],
   "source": [
    "data=np.random.rand(2,3,4)"
   ]
  },
  {
   "cell_type": "code",
   "execution_count": 3,
   "id": "c0fac3bf-0751-4302-9692-bbef1ea47848",
   "metadata": {},
   "outputs": [],
   "source": [
    "zeroes=np.zeros((2,2,2))"
   ]
  },
  {
   "cell_type": "code",
   "execution_count": 4,
   "id": "eb7ef342-9fd7-406f-a83d-83eaa313f126",
   "metadata": {},
   "outputs": [
    {
     "data": {
      "text/plain": [
       "array([[[0.64370493, 0.94756078, 0.03784921, 0.71581812],\n",
       "        [0.50517607, 0.93206524, 0.03337005, 0.33375243],\n",
       "        [0.0633121 , 0.95947011, 0.74226304, 0.28834839]],\n",
       "\n",
       "       [[0.2438218 , 0.11104074, 0.36524898, 0.43650347],\n",
       "        [0.3028956 , 0.2874226 , 0.02362202, 0.92327857],\n",
       "        [0.73952335, 0.74081807, 0.70476155, 0.78862761]]])"
      ]
     },
     "execution_count": 4,
     "metadata": {},
     "output_type": "execute_result"
    }
   ],
   "source": [
    "data"
   ]
  },
  {
   "cell_type": "code",
   "execution_count": 5,
   "id": "0b6c3e17-2e35-49c0-a6f3-db2962dfe211",
   "metadata": {},
   "outputs": [],
   "source": [
    "full=np.full((2,2,2),7)"
   ]
  },
  {
   "cell_type": "code",
   "execution_count": 6,
   "id": "3e234637-120f-43b2-ba6b-eece532ed07f",
   "metadata": {},
   "outputs": [],
   "source": [
    "ones=np.ones((2,2,2))"
   ]
  },
  {
   "cell_type": "code",
   "execution_count": 8,
   "id": "6c537278-6757-4cc5-97f7-5f7658ad66f0",
   "metadata": {},
   "outputs": [
    {
     "data": {
      "text/plain": [
       "array([[[0., 0.],\n",
       "        [0., 0.]],\n",
       "\n",
       "       [[0., 0.],\n",
       "        [0., 0.]]])"
      ]
     },
     "execution_count": 8,
     "metadata": {},
     "output_type": "execute_result"
    }
   ],
   "source": [
    "zeroes"
   ]
  },
  {
   "cell_type": "code",
   "execution_count": 9,
   "id": "5bf85061-1327-4f14-ad50-01c1d4f07db4",
   "metadata": {},
   "outputs": [],
   "source": [
    "arr=np.array([[1,2,3],[1,2,3]])"
   ]
  },
  {
   "cell_type": "code",
   "execution_count": 10,
   "id": "52672e53-c29f-4c69-8c0e-4c820758bce3",
   "metadata": {},
   "outputs": [
    {
     "data": {
      "text/plain": [
       "numpy.ndarray"
      ]
     },
     "execution_count": 10,
     "metadata": {},
     "output_type": "execute_result"
    }
   ],
   "source": [
    "type(arr)"
   ]
  },
  {
   "cell_type": "code",
   "execution_count": 11,
   "id": "37fa621f-fb5c-4c13-8a4d-231e9f3bf997",
   "metadata": {},
   "outputs": [],
   "source": [
    "shape=data.shape"
   ]
  },
  {
   "cell_type": "code",
   "execution_count": 12,
   "id": "d767a20a-094a-4929-afff-3ccfe6acb165",
   "metadata": {},
   "outputs": [],
   "source": [
    "size=data.size\n",
    "types=data.dtype"
   ]
  },
  {
   "cell_type": "code",
   "execution_count": 13,
   "id": "8995830e-1fa3-4413-b3b1-c1e0958b2c41",
   "metadata": {},
   "outputs": [
    {
     "data": {
      "text/plain": [
       "24"
      ]
     },
     "execution_count": 13,
     "metadata": {},
     "output_type": "execute_result"
    }
   ],
   "source": [
    "size\n"
   ]
  },
  {
   "cell_type": "code",
   "execution_count": 14,
   "id": "41602984-72ba-4809-ac5c-498bd511850c",
   "metadata": {},
   "outputs": [
    {
     "data": {
      "text/plain": [
       "dtype('float64')"
      ]
     },
     "execution_count": 14,
     "metadata": {},
     "output_type": "execute_result"
    }
   ],
   "source": [
    "types"
   ]
  },
  {
   "cell_type": "code",
   "execution_count": 19,
   "id": "41639873-6e3e-4ca5-a128-40e10af9dd8d",
   "metadata": {},
   "outputs": [],
   "source": [
    "arr=data[0]\n",
    "slicer=data[0][0:2]\n",
    "reverse=data[-1]\n",
    "singleval=data[0][0][0]"
   ]
  },
  {
   "cell_type": "code",
   "execution_count": 20,
   "id": "cef5e031-1566-4e85-8fcb-6fab2be7b8f1",
   "metadata": {},
   "outputs": [
    {
     "data": {
      "text/plain": [
       "array([[[0.64370493, 0.94756078, 0.03784921, 0.71581812],\n",
       "        [0.50517607, 0.93206524, 0.03337005, 0.33375243],\n",
       "        [0.0633121 , 0.95947011, 0.74226304, 0.28834839]],\n",
       "\n",
       "       [[0.2438218 , 0.11104074, 0.36524898, 0.43650347],\n",
       "        [0.3028956 , 0.2874226 , 0.02362202, 0.92327857],\n",
       "        [0.73952335, 0.74081807, 0.70476155, 0.78862761]]])"
      ]
     },
     "execution_count": 20,
     "metadata": {},
     "output_type": "execute_result"
    }
   ],
   "source": [
    "data"
   ]
  },
  {
   "cell_type": "code",
   "execution_count": 21,
   "id": "85428674-8820-4580-85df-43eda88f77a3",
   "metadata": {},
   "outputs": [
    {
     "data": {
      "text/plain": [
       "(array([[0.64370493, 0.94756078, 0.03784921, 0.71581812],\n",
       "        [0.50517607, 0.93206524, 0.03337005, 0.33375243],\n",
       "        [0.0633121 , 0.95947011, 0.74226304, 0.28834839]]),\n",
       " array([[0.64370493, 0.94756078, 0.03784921, 0.71581812],\n",
       "        [0.50517607, 0.93206524, 0.03337005, 0.33375243]]))"
      ]
     },
     "execution_count": 21,
     "metadata": {},
     "output_type": "execute_result"
    }
   ],
   "source": [
    "arr,slicer"
   ]
  },
  {
   "cell_type": "code",
   "execution_count": 18,
   "id": "b9782c8b-0d78-44df-b5b8-8c360834d6fe",
   "metadata": {},
   "outputs": [
    {
     "data": {
      "text/plain": [
       "array([[0.2438218 , 0.11104074, 0.36524898, 0.43650347],\n",
       "       [0.3028956 , 0.2874226 , 0.02362202, 0.92327857],\n",
       "       [0.73952335, 0.74081807, 0.70476155, 0.78862761]])"
      ]
     },
     "execution_count": 18,
     "metadata": {},
     "output_type": "execute_result"
    }
   ],
   "source": [
    "reverse"
   ]
  },
  {
   "cell_type": "code",
   "execution_count": 22,
   "id": "d20b473b-6d96-4ba5-9a54-2bf82b88c386",
   "metadata": {},
   "outputs": [
    {
     "data": {
      "text/plain": [
       "np.float64(0.6437049322284336)"
      ]
     },
     "execution_count": 22,
     "metadata": {},
     "output_type": "execute_result"
    }
   ],
   "source": [
    "singleval"
   ]
  },
  {
   "cell_type": "code",
   "execution_count": 23,
   "id": "17109892-5f05-4246-b3cc-fbd85de3d56b",
   "metadata": {},
   "outputs": [],
   "source": [
    "list1=np.random.rand(10)\n",
    "list2=np.random.rand(10)"
   ]
  },
  {
   "cell_type": "code",
   "execution_count": 25,
   "id": "06aa17e3-6111-4511-a02e-449090b687d7",
   "metadata": {},
   "outputs": [
    {
     "data": {
      "text/plain": [
       "array([0.55286878, 0.38855532, 0.3567932 , 0.00607131, 0.46292111,\n",
       "       0.12533803, 0.8101459 , 0.75808085, 0.21220697, 0.14903943])"
      ]
     },
     "execution_count": 25,
     "metadata": {},
     "output_type": "execute_result"
    }
   ],
   "source": [
    "list2"
   ]
  },
  {
   "cell_type": "code",
   "execution_count": 26,
   "id": "e8fed297-9e4b-48b4-8bf6-1632bb874ebe",
   "metadata": {},
   "outputs": [],
   "source": [
    "add=np.add(list1,list2)\n",
    "sub=np.subtract(list1,list2)\n",
    "div=np.divide(list1,list2)\n",
    "mult=np.multiply(list1,list2)\n",
    "dot=np.dot(list1,list2)"
   ]
  },
  {
   "cell_type": "code",
   "execution_count": 28,
   "id": "a570ecd0-1fd5-40b0-920a-2b3f8e95f643",
   "metadata": {},
   "outputs": [
    {
     "data": {
      "text/plain": [
       "array([0.49785902, 0.26550569, 0.9888139 , 0.1725759 , 0.20274294,\n",
       "       0.66829718, 0.79132511, 0.48189172, 0.82857113, 0.42521346])"
      ]
     },
     "execution_count": 28,
     "metadata": {},
     "output_type": "execute_result"
    }
   ],
   "source": [
    "list1"
   ]
  },
  {
   "cell_type": "code",
   "execution_count": 29,
   "id": "0c27387f-9f90-48e8-9eb6-bc8f40d0315b",
   "metadata": {},
   "outputs": [
    {
     "data": {
      "text/plain": [
       "array([0.55286878, 0.38855532, 0.3567932 , 0.00607131, 0.46292111,\n",
       "       0.12533803, 0.8101459 , 0.75808085, 0.21220697, 0.14903943])"
      ]
     },
     "execution_count": 29,
     "metadata": {},
     "output_type": "execute_result"
    }
   ],
   "source": [
    "list2"
   ]
  },
  {
   "cell_type": "code",
   "execution_count": 34,
   "id": "52bee9c9-3c97-48ba-b635-17eb030ce8ff",
   "metadata": {},
   "outputs": [
    {
     "data": {
      "text/plain": [
       "np.float64(2.15548505834677)"
      ]
     },
     "execution_count": 34,
     "metadata": {},
     "output_type": "execute_result"
    }
   ],
   "source": [
    "dot"
   ]
  },
  {
   "cell_type": "markdown",
   "id": "625dfb78-22cd-452b-a92b-69e1905cd8b4",
   "metadata": {},
   "source": [
    "**Remember saplemm for function.**"
   ]
  },
  {
   "cell_type": "code",
   "execution_count": 36,
   "id": "af5c50c6-ada7-45bc-8b1f-20de11846ed8",
   "metadata": {},
   "outputs": [
    {
     "data": {
      "text/plain": [
       "array([[[0.64370493, 0.94756078, 0.03784921, 0.71581812],\n",
       "        [0.50517607, 0.93206524, 0.03337005, 0.33375243],\n",
       "        [0.0633121 , 0.95947011, 0.74226304, 0.28834839]],\n",
       "\n",
       "       [[0.2438218 , 0.11104074, 0.36524898, 0.43650347],\n",
       "        [0.3028956 , 0.2874226 , 0.02362202, 0.92327857],\n",
       "        [0.73952335, 0.74081807, 0.70476155, 0.78862761]]])"
      ]
     },
     "execution_count": 36,
     "metadata": {},
     "output_type": "execute_result"
    }
   ],
   "source": [
    "data\n"
   ]
  },
  {
   "cell_type": "code",
   "execution_count": 37,
   "id": "7105fa7d-2510-452c-9244-f737b9f172de",
   "metadata": {},
   "outputs": [],
   "source": [
    "data[0][0][0]=700"
   ]
  },
  {
   "cell_type": "code",
   "execution_count": 38,
   "id": "100eb42f-5a61-4f94-8ce6-14157e10ddab",
   "metadata": {},
   "outputs": [
    {
     "data": {
      "text/plain": [
       "array([[[7.00000000e+02, 9.47560777e-01, 3.78492143e-02, 7.15818122e-01],\n",
       "        [5.05176070e-01, 9.32065236e-01, 3.33700465e-02, 3.33752432e-01],\n",
       "        [6.33120991e-02, 9.59470111e-01, 7.42263035e-01, 2.88348394e-01]],\n",
       "\n",
       "       [[2.43821797e-01, 1.11040743e-01, 3.65248978e-01, 4.36503467e-01],\n",
       "        [3.02895604e-01, 2.87422596e-01, 2.36220197e-02, 9.23278567e-01],\n",
       "        [7.39523347e-01, 7.40818075e-01, 7.04761547e-01, 7.88627611e-01]]])"
      ]
     },
     "execution_count": 38,
     "metadata": {},
     "output_type": "execute_result"
    }
   ],
   "source": [
    "data"
   ]
  },
  {
   "cell_type": "code",
   "execution_count": 39,
   "id": "fe12dd55-dce8-4119-964e-35dd2ee907b4",
   "metadata": {},
   "outputs": [
    {
     "data": {
      "text/plain": [
       "array([[[3.78492143e-02, 7.15818122e-01, 9.47560777e-01, 7.00000000e+02],\n",
       "        [3.33700465e-02, 3.33752432e-01, 5.05176070e-01, 9.32065236e-01],\n",
       "        [6.33120991e-02, 2.88348394e-01, 7.42263035e-01, 9.59470111e-01]],\n",
       "\n",
       "       [[1.11040743e-01, 2.43821797e-01, 3.65248978e-01, 4.36503467e-01],\n",
       "        [2.36220197e-02, 2.87422596e-01, 3.02895604e-01, 9.23278567e-01],\n",
       "        [7.04761547e-01, 7.39523347e-01, 7.40818075e-01, 7.88627611e-01]]])"
      ]
     },
     "execution_count": 39,
     "metadata": {},
     "output_type": "execute_result"
    }
   ],
   "source": [
    "data.sort()\n",
    "data"
   ]
  },
  {
   "cell_type": "code",
   "execution_count": 43,
   "id": "55e600d8-4793-4452-9637-5e19c8c7997b",
   "metadata": {},
   "outputs": [],
   "source": [
    "data=data.reshape(2,2,-1)"
   ]
  },
  {
   "cell_type": "code",
   "execution_count": 44,
   "id": "86390183-3706-493b-963b-5090e63a7acb",
   "metadata": {},
   "outputs": [
    {
     "data": {
      "text/plain": [
       "array([[[3.78492143e-02, 7.15818122e-01, 9.47560777e-01, 7.00000000e+02,\n",
       "         3.33700465e-02, 3.33752432e-01],\n",
       "        [5.05176070e-01, 9.32065236e-01, 6.33120991e-02, 2.88348394e-01,\n",
       "         7.42263035e-01, 9.59470111e-01]],\n",
       "\n",
       "       [[1.11040743e-01, 2.43821797e-01, 3.65248978e-01, 4.36503467e-01,\n",
       "         2.36220197e-02, 2.87422596e-01],\n",
       "        [3.02895604e-01, 9.23278567e-01, 7.04761547e-01, 7.39523347e-01,\n",
       "         7.40818075e-01, 7.88627611e-01]]])"
      ]
     },
     "execution_count": 44,
     "metadata": {},
     "output_type": "execute_result"
    }
   ],
   "source": [
    "data"
   ]
  },
  {
   "cell_type": "code",
   "execution_count": 52,
   "id": "f31c0521-1030-49d4-9519-b6a56342127e",
   "metadata": {},
   "outputs": [
    {
     "data": {
      "text/plain": [
       "array([ 0.49785902,  0.26550569,  0.9888139 ,  0.1725759 , 12.        ,\n",
       "        0.20274294,  0.66829718,  0.79132511,  0.48189172,  0.82857113,\n",
       "        0.42521346,  6.        ,  7.        ,  4.        ,  4.        ,\n",
       "        6.        ,  7.        ,  6.        ,  6.        ,  6.        ,\n",
       "        6.        ,  6.        ])"
      ]
     },
     "execution_count": 52,
     "metadata": {},
     "output_type": "execute_result"
    }
   ],
   "source": [
    "list1=np.append(list1,6)\n",
    "list1=np.insert(list1,4,12)\n",
    "list1"
   ]
  },
  {
   "cell_type": "code",
   "execution_count": 53,
   "id": "a3ff25fc-357d-49e7-bd3d-f094701c15be",
   "metadata": {},
   "outputs": [
    {
     "data": {
      "text/plain": [
       "array([[[3.78492143e-02, 7.15818122e-01, 9.47560777e-01, 7.00000000e+02,\n",
       "         3.33700465e-02, 3.33752432e-01],\n",
       "        [5.05176070e-01, 9.32065236e-01, 6.33120991e-02, 2.88348394e-01,\n",
       "         7.42263035e-01, 9.59470111e-01]],\n",
       "\n",
       "       [[1.11040743e-01, 2.43821797e-01, 3.65248978e-01, 4.36503467e-01,\n",
       "         2.36220197e-02, 2.87422596e-01],\n",
       "        [3.02895604e-01, 9.23278567e-01, 7.04761547e-01, 7.39523347e-01,\n",
       "         7.40818075e-01, 7.88627611e-01]]])"
      ]
     },
     "execution_count": 53,
     "metadata": {},
     "output_type": "execute_result"
    }
   ],
   "source": [
    "data"
   ]
  },
  {
   "cell_type": "code",
   "execution_count": 54,
   "id": "17ff280e-f862-478a-9203-fe3313582f43",
   "metadata": {},
   "outputs": [
    {
     "data": {
      "text/plain": [
       "array([[[0.50517607, 0.93206524, 0.0633121 , 0.28834839, 0.74226304,\n",
       "         0.95947011]],\n",
       "\n",
       "       [[0.3028956 , 0.92327857, 0.70476155, 0.73952335, 0.74081807,\n",
       "         0.78862761]]])"
      ]
     },
     "execution_count": 54,
     "metadata": {},
     "output_type": "execute_result"
    }
   ],
   "source": [
    "np.delete(data,0,axis=1)"
   ]
  },
  {
   "cell_type": "code",
   "execution_count": null,
   "id": "e6d2f9f6-a50a-4390-9c72-68179ef09164",
   "metadata": {},
   "outputs": [],
   "source": []
  }
 ],
 "metadata": {
  "kernelspec": {
   "display_name": "Python 3 (ipykernel)",
   "language": "python",
   "name": "python3"
  },
  "language_info": {
   "codemirror_mode": {
    "name": "ipython",
    "version": 3
   },
   "file_extension": ".py",
   "mimetype": "text/x-python",
   "name": "python",
   "nbconvert_exporter": "python",
   "pygments_lexer": "ipython3",
   "version": "3.13.1"
  }
 },
 "nbformat": 4,
 "nbformat_minor": 5
}
