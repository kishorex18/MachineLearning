{
 "cells": [
  {
   "cell_type": "code",
   "execution_count": 36,
   "id": "66362cd5-51cf-4411-8369-6255607d7a03",
   "metadata": {},
   "outputs": [],
   "source": [
    "import numpy as np \n",
    "import pandas as pd\n",
    "import matplotlib.pyplot as plt\n",
    "from sklearn import linear_model"
   ]
  },
  {
   "cell_type": "code",
   "execution_count": 60,
   "id": "a8e831a7-bbf5-4cb8-8c86-650442b704db",
   "metadata": {},
   "outputs": [],
   "source": [
    "def gradient_descent(x,y):\n",
    "    m_cur=0\n",
    "    b_cur=0\n",
    "    iterations=1000000\n",
    "    learning_rate=0.0001\n",
    "    n=len(x)\n",
    "    threshold=1e-6\n",
    "    for i in range(iterations):\n",
    "        y_predict=m_cur*x+b_cur\n",
    "        m_deri=-(2/n)*sum(x*((y-y_predict)))\n",
    "        b_deri=-(2/n)*sum((y-y_predict))\n",
    "        if np.isnan(m_deri) or np.isinf(m_deri) or np.isnan(b_deri) or np.isinf(b_deri):\n",
    "            print(\"Numerical instability encountered. Check data or learning rate.\")\n",
    "            break\n",
    "        m_new=m_cur-learning_rate*m_deri\n",
    "        b_new= b_cur-learning_rate*b_deri\n",
    "        if(abs(m_new-m_cur)<threshold and abs(b_new-b_cur)<threshold):\n",
    "            print(\"Convergence in:\",i+1)\n",
    "            print(\"m:\",m_cur,\" b:\",b_cur)\n",
    "            return\n",
    "        b_cur=b_new\n",
    "        m_cur=m_new\n",
    "    print(\"m:\",m_cur,\" b:\",b_cur)       \n",
    "         \n",
    "    \n",
    "        "
   ]
  },
  {
   "cell_type": "code",
   "execution_count": 21,
   "id": "f4161cf2-6b22-41e6-8f12-bdeccb310294",
   "metadata": {},
   "outputs": [
    {
     "data": {
      "text/html": [
       "<div>\n",
       "<style scoped>\n",
       "    .dataframe tbody tr th:only-of-type {\n",
       "        vertical-align: middle;\n",
       "    }\n",
       "\n",
       "    .dataframe tbody tr th {\n",
       "        vertical-align: top;\n",
       "    }\n",
       "\n",
       "    .dataframe thead th {\n",
       "        text-align: right;\n",
       "    }\n",
       "</style>\n",
       "<table border=\"1\" class=\"dataframe\">\n",
       "  <thead>\n",
       "    <tr style=\"text-align: right;\">\n",
       "      <th></th>\n",
       "      <th>name</th>\n",
       "      <th>math</th>\n",
       "      <th>cs</th>\n",
       "    </tr>\n",
       "  </thead>\n",
       "  <tbody>\n",
       "    <tr>\n",
       "      <th>0</th>\n",
       "      <td>david</td>\n",
       "      <td>92</td>\n",
       "      <td>98</td>\n",
       "    </tr>\n",
       "    <tr>\n",
       "      <th>1</th>\n",
       "      <td>laura</td>\n",
       "      <td>56</td>\n",
       "      <td>68</td>\n",
       "    </tr>\n",
       "    <tr>\n",
       "      <th>2</th>\n",
       "      <td>sanjay</td>\n",
       "      <td>88</td>\n",
       "      <td>81</td>\n",
       "    </tr>\n",
       "    <tr>\n",
       "      <th>3</th>\n",
       "      <td>wei</td>\n",
       "      <td>70</td>\n",
       "      <td>80</td>\n",
       "    </tr>\n",
       "    <tr>\n",
       "      <th>4</th>\n",
       "      <td>jeff</td>\n",
       "      <td>80</td>\n",
       "      <td>83</td>\n",
       "    </tr>\n",
       "    <tr>\n",
       "      <th>5</th>\n",
       "      <td>aamir</td>\n",
       "      <td>49</td>\n",
       "      <td>52</td>\n",
       "    </tr>\n",
       "    <tr>\n",
       "      <th>6</th>\n",
       "      <td>venkat</td>\n",
       "      <td>65</td>\n",
       "      <td>66</td>\n",
       "    </tr>\n",
       "    <tr>\n",
       "      <th>7</th>\n",
       "      <td>virat</td>\n",
       "      <td>35</td>\n",
       "      <td>30</td>\n",
       "    </tr>\n",
       "    <tr>\n",
       "      <th>8</th>\n",
       "      <td>arthur</td>\n",
       "      <td>66</td>\n",
       "      <td>68</td>\n",
       "    </tr>\n",
       "    <tr>\n",
       "      <th>9</th>\n",
       "      <td>paul</td>\n",
       "      <td>67</td>\n",
       "      <td>73</td>\n",
       "    </tr>\n",
       "  </tbody>\n",
       "</table>\n",
       "</div>"
      ],
      "text/plain": [
       "     name  math  cs\n",
       "0   david    92  98\n",
       "1   laura    56  68\n",
       "2  sanjay    88  81\n",
       "3     wei    70  80\n",
       "4    jeff    80  83\n",
       "5   aamir    49  52\n",
       "6  venkat    65  66\n",
       "7   virat    35  30\n",
       "8  arthur    66  68\n",
       "9    paul    67  73"
      ]
     },
     "execution_count": 21,
     "metadata": {},
     "output_type": "execute_result"
    }
   ],
   "source": [
    "df=pd.read_csv(\"test_scores.csv\")\n",
    "df"
   ]
  },
  {
   "cell_type": "code",
   "execution_count": 28,
   "id": "59ac928d-6a2a-476d-8bd0-b3ef01b2d4bc",
   "metadata": {},
   "outputs": [
    {
     "data": {
      "text/plain": [
       "(array([92., 56., 88., 70., 80., 49., 65., 35., 66., 67.]),\n",
       " array([98., 68., 81., 80., 83., 52., 66., 30., 68., 73.]))"
      ]
     },
     "execution_count": 28,
     "metadata": {},
     "output_type": "execute_result"
    }
   ],
   "source": [
    "x=np.array(df.iloc[0:,1],dtype=float)\n",
    "y=np.array(df.iloc[0:,-1],dtype=float)\n",
    "x,y"
   ]
  },
  {
   "cell_type": "code",
   "execution_count": 61,
   "id": "c366866e-b02a-4f0a-9dfa-9aede421d6c0",
   "metadata": {},
   "outputs": [
    {
     "name": "stdout",
     "output_type": "stream",
     "text": [
      "Convergence in: 268546\n",
      "m: 1.0189655175003687  b: 1.8281034537010938\n"
     ]
    }
   ],
   "source": [
    "gradient_descent(x,y)"
   ]
  },
  {
   "cell_type": "code",
   "execution_count": 50,
   "id": "9c37ea95-5672-427a-aec7-82da994fb3df",
   "metadata": {},
   "outputs": [
    {
     "data": {
      "text/plain": [
       "(array([1.01773624]), np.float64(1.9152193111568891))"
      ]
     },
     "execution_count": 50,
     "metadata": {},
     "output_type": "execute_result"
    }
   ],
   "source": [
    "reg=linear_model.LinearRegression()\n",
    "reg.fit(df[[\"math\"]],df[\"cs\"])\n",
    "reg.coef_,reg.intercept_"
   ]
  },
  {
   "cell_type": "code",
   "execution_count": null,
   "id": "f9e67550-8157-4d19-a7da-2c3605110903",
   "metadata": {},
   "outputs": [],
   "source": []
  }
 ],
 "metadata": {
  "kernelspec": {
   "display_name": "Python 3 (ipykernel)",
   "language": "python",
   "name": "python3"
  },
  "language_info": {
   "codemirror_mode": {
    "name": "ipython",
    "version": 3
   },
   "file_extension": ".py",
   "mimetype": "text/x-python",
   "name": "python",
   "nbconvert_exporter": "python",
   "pygments_lexer": "ipython3",
   "version": "3.13.1"
  }
 },
 "nbformat": 4,
 "nbformat_minor": 5
}
